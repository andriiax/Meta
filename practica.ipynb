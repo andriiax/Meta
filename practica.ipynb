{
 "cells": [
  {
   "cell_type": "code",
   "execution_count": 1,
   "id": "cfb8b320-af07-4b1c-ae23-372345370a02",
   "metadata": {},
   "outputs": [
    {
     "name": "stdout",
     "output_type": "stream",
     "text": [
      "Requirement already satisfied: mysql-connector-python in c:\\users\\adri\\appdata\\local\\programs\\python\\python312\\lib\\site-packages (9.0.0)\n",
      "Note: you may need to restart the kernel to use updated packages.\n"
     ]
    }
   ],
   "source": [
    "pip install mysql-connector-python"
   ]
  },
  {
   "cell_type": "code",
   "execution_count": 2,
   "id": "8209d66b-7b91-48bd-98fc-738c902b56ff",
   "metadata": {},
   "outputs": [],
   "source": [
    "# Import MySQL Connector/Python \n",
    "import mysql.connector as connector\n",
    "connection=connector.connect(user=\"root\",password=\"\")"
   ]
  },
  {
   "cell_type": "code",
   "execution_count": 3,
   "id": "cfa3071b-4d7c-4b41-8c03-26894cd5b565",
   "metadata": {},
   "outputs": [
    {
     "name": "stdout",
     "output_type": "stream",
     "text": [
      "Cursor is created to communicate with the MySQL using Python.\n"
     ]
    }
   ],
   "source": [
    "# Create cursor object to communicate with entire MySQL database\n",
    "cursor = connection.cursor()\n",
    "print(\"Cursor is created to communicate with the MySQL using Python.\")"
   ]
  },
  {
   "cell_type": "code",
   "execution_count": 4,
   "id": "5236c128-20d1-439e-a8fd-6c2c285e7899",
   "metadata": {},
   "outputs": [
    {
     "name": "stdout",
     "output_type": "stream",
     "text": [
      "The database 'little_lemon_db' is created.\n",
      "\n",
      "The database little_lemon is set for use.\n"
     ]
    }
   ],
   "source": [
    "# Use try-except block to create a database named \"little_lemon_db\"\n",
    "# If the database already exists then drop the database first, then create it again.\n",
    "try:\n",
    "    cursor.execute(\"CREATE DATABASE little_lemon_db\")\n",
    "except:\n",
    "    cursor.execute(\"DROP DATABASE little_lemon_db\")\n",
    "    cursor.execute(\"CREATE DATABASE little_lemon_db\")\n",
    "print(\"The database 'little_lemon_db' is created.\\n\")    \n",
    "\n",
    "# Set little_lemon database for use \n",
    "cursor.execute(\"USE little_lemon_db\")\n",
    "print(\"The database little_lemon is set for use.\")"
   ]
  },
  {
   "cell_type": "code",
   "execution_count": 5,
   "id": "3615ed68-42f4-4e2e-8f02-a7ec386b4c24",
   "metadata": {},
   "outputs": [
    {
     "name": "stdout",
     "output_type": "stream",
     "text": [
      "MenuItems table is created.\n",
      "\n",
      "Inserting data in MenuItems table.\n",
      "Total number of rows in MenuItem table: 17\n",
      "\n"
     ]
    }
   ],
   "source": [
    "# The SQL query for the MenuItems table is: \n",
    "create_menuitem_table=\"\"\"\n",
    "CREATE TABLE MenuItems (\n",
    "ItemID INT AUTO_INCREMENT,\n",
    "Name VARCHAR(200),\n",
    "Type VARCHAR(100),\n",
    "Price INT,\n",
    "PRIMARY KEY (ItemID)\n",
    ");\"\"\"\n",
    "\n",
    "# Create MenuItems table\n",
    "cursor.execute(create_menuitem_table)\n",
    "print(\"MenuItems table is created.\\n\")\n",
    "\n",
    "#*******************************************************#\n",
    "# Insert query to populate \"MenuItems\" table: \n",
    "#*******************************************************#\n",
    "insert_menuitems=\"\"\"\n",
    "INSERT INTO MenuItems (ItemID, Name, Type, Price)\n",
    "VALUES\n",
    "(1,'Olives','Starters',5),\n",
    "(2,'Flatbread','Starters', 5),\n",
    "(3, 'Minestrone', 'Starters', 8),\n",
    "(4, 'Tomato bread','Starters', 8),\n",
    "(5, 'Falafel', 'Starters', 7),\n",
    "(6, 'Hummus', 'Starters', 5),\n",
    "(7, 'Greek salad', 'Main Courses', 15),\n",
    "(8, 'Bean soup', 'Main Courses', 12),\n",
    "(9, 'Pizza', 'Main Courses', 15),\n",
    "(10,'Greek yoghurt','Desserts', 7),\n",
    "(11, 'Ice cream', 'Desserts', 6),\n",
    "(12, 'Cheesecake', 'Desserts', 4),\n",
    "(13, 'Athens White wine', 'Drinks', 25),\n",
    "(14, 'Corfu Red Wine', 'Drinks', 30),\n",
    "(15, 'Turkish Coffee', 'Drinks', 10),\n",
    "(16, 'Turkish Coffee', 'Drinks', 10),\n",
    "(17, 'Kabasa', 'Main Courses', 17);\"\"\"\n",
    "\n",
    "print(\"Inserting data in MenuItems table.\")\n",
    "# Populate MenuItems table\n",
    "cursor.execute(insert_menuitems)\n",
    "print(\"Total number of rows in MenuItem table: {}\\n\".format(cursor.rowcount))\n",
    "# Once the query is executed,  commit the change to the database \n",
    "connection.commit()"
   ]
  },
  {
   "cell_type": "code",
   "execution_count": 6,
   "id": "d298954d-5f9e-417e-b6fe-2c9193762185",
   "metadata": {},
   "outputs": [
    {
     "name": "stdout",
     "output_type": "stream",
     "text": [
      "Menu table is created.\n",
      "\n",
      "Inserting data in Menus table.\n",
      "Total number of rows in Menu table: 12\n",
      "\n"
     ]
    }
   ],
   "source": [
    "# The SQL query for the Menus table is:\n",
    "create_menu_table=\"\"\"\n",
    "CREATE TABLE Menus (\n",
    "MenuID INT,\n",
    "ItemID INT,\n",
    "Cuisine VARCHAR(100),\n",
    "PRIMARY KEY (MenuID, ItemID)\n",
    ");\"\"\"\n",
    "\n",
    "# Create Menus table\n",
    "cursor.execute(create_menu_table)\n",
    "print(\"Menu table is created.\\n\")\n",
    "\n",
    "\n",
    "#*******************************************************#\n",
    "# Insert query to populate \"Menus\" table: \n",
    "#*******************************************************#\n",
    "insert_menus=\"\"\"\n",
    "INSERT INTO Menus (MenuID, ItemID, Cuisine)\n",
    "VALUES\n",
    "(1, 1, 'Greek'),\n",
    "(1, 7, 'Greek'),\n",
    "(1, 10, 'Greek'),\n",
    "(1, 13, 'Greek'),\n",
    "(2, 3, 'Italian'),\n",
    "(2, 9, 'Italian'),\n",
    "(2, 12, 'Italian'),\n",
    "(2, 15, 'Italian'),\n",
    "(3, 5, 'Turkish'),\n",
    "(3, 17, 'Turkish'),\n",
    "(3, 11, 'Turkish'),\n",
    "(3, 16, 'Turkish');\"\"\"\n",
    "\n",
    "print(\"Inserting data in Menus table.\")\n",
    "# Populate Menus table\n",
    "cursor.execute(insert_menus)\n",
    "print(\"Total number of rows in Menu table: {}\\n\".format(cursor.rowcount))\n",
    "connection.commit()"
   ]
  },
  {
   "cell_type": "code",
   "execution_count": 7,
   "id": "d22a10be-e732-4175-954c-0f2c5cb8a57c",
   "metadata": {},
   "outputs": [
    {
     "name": "stdout",
     "output_type": "stream",
     "text": [
      "Bookings table is created.\n",
      "\n",
      "Inserting data in Bookings table.\n",
      "Total number of rows in Bookings table: 6\n",
      "\n"
     ]
    }
   ],
   "source": [
    "# SQL query for Bookings table::\n",
    "create_booking_table=\"\"\"\n",
    "CREATE TABLE Bookings (\n",
    "BookingID INT AUTO_INCREMENT,\n",
    "TableNo INT,\n",
    "GuestFirstName VARCHAR(100) NOT NULL,\n",
    "GuestLastName VARCHAR(100) NOT NULL,\n",
    "BookingSlot TIME NOT NULL,\n",
    "EmployeeID INT,\n",
    "PRIMARY KEY (BookingID)\n",
    ");\"\"\"\n",
    "\n",
    "# Create Bookings table\n",
    "cursor.execute(create_booking_table)\n",
    "print(\"Bookings table is created.\\n\")\n",
    "\n",
    "#*******************************************************#\n",
    "# Insert query to populate \"Bookings\" table: \n",
    "#*******************************************************#\n",
    "insert_bookings=\"\"\"\n",
    "INSERT INTO Bookings (BookingID, TableNo, GuestFirstName, \n",
    "GuestLastName, BookingSlot, EmployeeID)\n",
    "VALUES\n",
    "(1,12,'Anna','Iversen','19:00:00',1),\n",
    "(2, 12, 'Joakim', 'Iversen', '19:00:00', 1),\n",
    "(3, 19, 'Vanessa', 'McCarthy', '15:00:00', 3),\n",
    "(4, 15, 'Marcos', 'Romero', '17:30:00', 4),\n",
    "(5, 5, 'Hiroki', 'Yamane', '18:30:00', 2),\n",
    "(6, 8, 'Diana', 'Pinto', '20:00:00', 5);\"\"\"\n",
    "\n",
    "print(\"Inserting data in Bookings table.\")\n",
    "# Populate Bookings table\n",
    "cursor.execute(insert_bookings)\n",
    "print(\"Total number of rows in Bookings table: {}\\n\".format(cursor.rowcount))\n",
    "connection.commit()"
   ]
  },
  {
   "cell_type": "code",
   "execution_count": 8,
   "id": "02056685-99ba-45f0-8611-bc173e608f2a",
   "metadata": {},
   "outputs": [
    {
     "name": "stdout",
     "output_type": "stream",
     "text": [
      "Orders table is created.\n",
      "\n",
      "Inserting data in Orders table.\n",
      "Total number of rows in Orders table: 5\n",
      "\n"
     ]
    }
   ],
   "source": [
    "#  SQL query for Orders table: \n",
    "create_orders_table=\"\"\"\n",
    "CREATE TABLE Orders (\n",
    "OrderID INT,\n",
    "TableNo INT,\n",
    "MenuID INT,\n",
    "BookingID INT,\n",
    "BillAmount INT,\n",
    "Quantity INT,\n",
    "PRIMARY KEY (OrderID,TableNo)\n",
    ");\"\"\"\n",
    "\n",
    "# Create Orders table\n",
    "cursor.execute(create_orders_table)\n",
    "print(\"Orders table is created.\\n\")\n",
    "\n",
    "#*******************************************************#\n",
    "# Insert query to populate \"Orders\" table is:\n",
    "#*******************************************************#\n",
    "insert_orders=\"\"\"\n",
    "INSERT INTO Orders (OrderID, TableNo, MenuID, BookingID, Quantity, BillAmount)\n",
    "VALUES\n",
    "(1, 12, 1, 1, 2, 86),\n",
    "(2, 19, 2, 2, 1, 37),\n",
    "(3, 15, 2, 3, 1, 37),\n",
    "(4, 5, 3, 4, 1, 40),\n",
    "(5, 8, 1, 5, 1, 43);\"\"\"\n",
    "\n",
    "print(\"Inserting data in Orders table.\")\n",
    "# Populate Orders table\n",
    "cursor.execute(insert_orders)\n",
    "print(\"Total number of rows in Orders table: {}\\n\".format(cursor.rowcount))\n",
    "connection.commit()\n"
   ]
  },
  {
   "cell_type": "code",
   "execution_count": 9,
   "id": "768f20a6-f475-4c91-89b0-411e2e4f4c3a",
   "metadata": {},
   "outputs": [
    {
     "name": "stdout",
     "output_type": "stream",
     "text": [
      "Inserting data in the Employees table.\n",
      "Total number of rows in the Employees table:  6\n"
     ]
    }
   ],
   "source": [
    "#  SQL query for  Employees table: \n",
    "create_employees_table=\"\"\"\n",
    "CREATE TABLE Employees (\n",
    "EmployeeID INT AUTO_INCREMENT,\n",
    "Name VARCHAR(200),\n",
    "Role VARCHAR(100),\n",
    "Address VARCHAR(200),\n",
    "Contact_Number INT,\n",
    "Email VARCHAR(100),\n",
    "Annual_Salary VARCHAR(100),\n",
    "PRIMARY KEY (EmployeeID)\n",
    ");\"\"\"\n",
    "\n",
    "# Create Employees table\n",
    "cursor.execute(create_employees_table)\n",
    "\n",
    "#*******************************************************#\n",
    "# Insert query to populate \"Employees\" table: \n",
    "#*******************************************************#\n",
    "insert_employees=\"\"\"\n",
    "INSERT INTO Employees (EmployeeID, Name, Role, Address, Contact_Number, Email, Annual_Salary)\n",
    "VALUES\n",
    "(01,'Mario Gollini','Manager','724, Parsley Lane, Old Town, Chicago, IL',351258074,'Mario.g@littlelemon.com','$70,000'),\n",
    "(02,'Adrian Gollini','Assistant Manager','334, Dill Square, Lincoln Park, Chicago, IL',351474048,'Adrian.g@littlelemon.com','$65,000'),\n",
    "(03,'Giorgos Dioudis','Head Chef','879 Sage Street, West Loop, Chicago, IL',351970582,'Giorgos.d@littlelemon.com','$50,000'),\n",
    "(04,'Fatma Kaya','Assistant Chef','132  Bay Lane, Chicago, IL',351963569,'Fatma.k@littlelemon.com','$45,000'),\n",
    "(05,'Elena Salvai','Head Waiter','989 Thyme Square, EdgeWater, Chicago, IL',351074198,'Elena.s@littlelemon.com','$40,000'),\n",
    "(06,'John Millar','Receptionist','245 Dill Square, Lincoln Park, Chicago, IL',351584508,'John.m@littlelemon.com','$35,000');\"\"\"\n",
    "\n",
    "\n",
    "print(\"Inserting data in the Employees table.\")\n",
    "# Populate Employees table\n",
    "cursor.execute(insert_employees)\n",
    "print(\"Total number of rows in the Employees table: \", cursor.rowcount)\n",
    "# Once the query is executed, you can commit the change to the database \n",
    "connection.commit()"
   ]
  },
  {
   "cell_type": "markdown",
   "id": "e78432c3-0256-4e74-8dbe-e9894b51e9f6",
   "metadata": {},
   "source": [
    "### Ejercicio 2: Implementar y consultar procedimientos almacenados"
   ]
  },
  {
   "cell_type": "code",
   "execution_count": 11,
   "id": "a0f2e902-451e-4670-b43f-44877f343128",
   "metadata": {},
   "outputs": [
    {
     "name": "stdout",
     "output_type": "stream",
     "text": [
      "The connection pool is created with a name:  pool_a\n",
      "The pool size is: 2\n"
     ]
    }
   ],
   "source": [
    "from mysql.connector.pooling import MySQLConnectionPool\n",
    "from mysql.connector import Error\n",
    "\n",
    "dbconfig = {\n",
    "    \"database\":\"little_lemon_db\",\n",
    "    \"user\" : \"root\",\n",
    "    \"password\" : \"\"\n",
    "}\n",
    "\n",
    "try:\n",
    "    pool = MySQLConnectionPool(pool_name = \"pool_a\",pool_size = 2,**dbconfig)\n",
    "    print(\"The connection pool is created with a name: \",pool.pool_name)\n",
    "    print(\"The pool size is:\",pool.pool_size)\n",
    "\n",
    "except Error as er:\n",
    "    print(\"Error code:\", er.errno)\n",
    "    print(\"Error message:\", er.msg)\n"
   ]
  },
  {
   "cell_type": "code",
   "execution_count": 12,
   "id": "c047c4b9-4fdb-406e-93a0-244f61539954",
   "metadata": {},
   "outputs": [
    {
     "name": "stdout",
     "output_type": "stream",
     "text": [
      "Getting a connection from the pool.\n",
      "'connection1' object is created with a connection from the pool\n"
     ]
    }
   ],
   "source": [
    "# Get the connection from the connection pool \"pool\"\n",
    "print(\"Getting a connection from the pool.\")\n",
    "connection1 = pool.get_connection()\n",
    "print(\"'connection1' object is created with a connection from the pool\")"
   ]
  },
  {
   "cell_type": "code",
   "execution_count": 13,
   "id": "7b9edcfc-8887-4e53-82b5-eaa1d53f1654",
   "metadata": {},
   "outputs": [],
   "source": [
    "cursor=connection1.cursor()"
   ]
  },
  {
   "cell_type": "code",
   "execution_count": 14,
   "id": "2f38bcb7-f532-46fc-97bd-084de7041ac6",
   "metadata": {},
   "outputs": [
    {
     "ename": "ProgrammingError",
     "evalue": "1305 (42000): PROCEDURE little_lemon_db.BusyHours does not exist",
     "output_type": "error",
     "traceback": [
      "\u001b[1;31m---------------------------------------------------------------------------\u001b[0m",
      "\u001b[1;31mMySQLInterfaceError\u001b[0m                       Traceback (most recent call last)",
      "File \u001b[1;32m~\\AppData\\Local\\Programs\\Python\\Python312\\Lib\\site-packages\\mysql\\connector\\connection_cext.py:705\u001b[0m, in \u001b[0;36mCMySQLConnection.cmd_query\u001b[1;34m(self, query, raw, buffered, raw_as_string)\u001b[0m\n\u001b[0;32m    704\u001b[0m         query \u001b[38;5;241m=\u001b[39m query\u001b[38;5;241m.\u001b[39mencode(\u001b[38;5;124m\"\u001b[39m\u001b[38;5;124mutf-8\u001b[39m\u001b[38;5;124m\"\u001b[39m)\n\u001b[1;32m--> 705\u001b[0m     \u001b[38;5;28;43mself\u001b[39;49m\u001b[38;5;241;43m.\u001b[39;49m\u001b[43m_cmysql\u001b[49m\u001b[38;5;241;43m.\u001b[39;49m\u001b[43mquery\u001b[49m\u001b[43m(\u001b[49m\n\u001b[0;32m    706\u001b[0m \u001b[43m        \u001b[49m\u001b[43mquery\u001b[49m\u001b[43m,\u001b[49m\n\u001b[0;32m    707\u001b[0m \u001b[43m        \u001b[49m\u001b[43mraw\u001b[49m\u001b[38;5;241;43m=\u001b[39;49m\u001b[43mraw\u001b[49m\u001b[43m,\u001b[49m\n\u001b[0;32m    708\u001b[0m \u001b[43m        \u001b[49m\u001b[43mbuffered\u001b[49m\u001b[38;5;241;43m=\u001b[39;49m\u001b[43mbuffered\u001b[49m\u001b[43m,\u001b[49m\n\u001b[0;32m    709\u001b[0m \u001b[43m        \u001b[49m\u001b[43mraw_as_string\u001b[49m\u001b[38;5;241;43m=\u001b[39;49m\u001b[43mraw_as_string\u001b[49m\u001b[43m,\u001b[49m\n\u001b[0;32m    710\u001b[0m \u001b[43m        \u001b[49m\u001b[43mquery_attrs\u001b[49m\u001b[38;5;241;43m=\u001b[39;49m\u001b[38;5;28;43mself\u001b[39;49m\u001b[38;5;241;43m.\u001b[39;49m\u001b[43mquery_attrs\u001b[49m\u001b[43m,\u001b[49m\n\u001b[0;32m    711\u001b[0m \u001b[43m    \u001b[49m\u001b[43m)\u001b[49m\n\u001b[0;32m    712\u001b[0m \u001b[38;5;28;01mexcept\u001b[39;00m MySQLInterfaceError \u001b[38;5;28;01mas\u001b[39;00m err:\n",
      "\u001b[1;31mMySQLInterfaceError\u001b[0m: PROCEDURE little_lemon_db.BusyHours does not exist",
      "\nThe above exception was the direct cause of the following exception:\n",
      "\u001b[1;31mProgrammingError\u001b[0m                          Traceback (most recent call last)",
      "Cell \u001b[1;32mIn[14], line 24\u001b[0m\n\u001b[0;32m     22\u001b[0m cursor\u001b[38;5;241m.\u001b[39mexecute(stored_procedure_query)\n\u001b[0;32m     23\u001b[0m \u001b[38;5;66;03m# Call the stored procedure with its name\u001b[39;00m\n\u001b[1;32m---> 24\u001b[0m \u001b[43mcursor\u001b[49m\u001b[38;5;241;43m.\u001b[39;49m\u001b[43mcallproc\u001b[49m\u001b[43m(\u001b[49m\u001b[38;5;124;43m\"\u001b[39;49m\u001b[38;5;124;43mBusyHours\u001b[39;49m\u001b[38;5;124;43m\"\u001b[39;49m\u001b[43m)\u001b[49m\n\u001b[0;32m     26\u001b[0m \u001b[38;5;66;03m# Retrieve records in \"dataset\"\u001b[39;00m\n\u001b[0;32m     27\u001b[0m results \u001b[38;5;241m=\u001b[39m \u001b[38;5;28mnext\u001b[39m(cursor\u001b[38;5;241m.\u001b[39mstored_results() )\n",
      "File \u001b[1;32m~\\AppData\\Local\\Programs\\Python\\Python312\\Lib\\site-packages\\mysql\\connector\\cursor_cext.py:569\u001b[0m, in \u001b[0;36mCMySQLCursor.callproc\u001b[1;34m(self, procname, args)\u001b[0m\n\u001b[0;32m    565\u001b[0m     \u001b[38;5;28mself\u001b[39m\u001b[38;5;241m.\u001b[39mexecute(\u001b[38;5;124mf\u001b[39m\u001b[38;5;124m\"\u001b[39m\u001b[38;5;124mSET \u001b[39m\u001b[38;5;132;01m{\u001b[39;00mplaceholders\u001b[38;5;132;01m}\u001b[39;00m\u001b[38;5;124m\"\u001b[39m, argvalues)\n\u001b[0;32m    567\u001b[0m call \u001b[38;5;241m=\u001b[39m \u001b[38;5;124mf\u001b[39m\u001b[38;5;124m\"\u001b[39m\u001b[38;5;124mCALL \u001b[39m\u001b[38;5;132;01m{\u001b[39;00mprocname\u001b[38;5;132;01m}\u001b[39;00m\u001b[38;5;124m(\u001b[39m\u001b[38;5;132;01m{\u001b[39;00m\u001b[38;5;124m'\u001b[39m\u001b[38;5;124m,\u001b[39m\u001b[38;5;124m'\u001b[39m\u001b[38;5;241m.\u001b[39mjoin(argnames)\u001b[38;5;132;01m}\u001b[39;00m\u001b[38;5;124m)\u001b[39m\u001b[38;5;124m\"\u001b[39m\n\u001b[1;32m--> 569\u001b[0m result \u001b[38;5;241m=\u001b[39m \u001b[38;5;28;43mself\u001b[39;49m\u001b[38;5;241;43m.\u001b[39;49m\u001b[43m_connection\u001b[49m\u001b[38;5;241;43m.\u001b[39;49m\u001b[43mcmd_query\u001b[49m\u001b[43m(\u001b[49m\n\u001b[0;32m    570\u001b[0m \u001b[43m    \u001b[49m\u001b[43mcall\u001b[49m\u001b[43m,\u001b[49m\u001b[43m \u001b[49m\u001b[43mraw\u001b[49m\u001b[38;5;241;43m=\u001b[39;49m\u001b[38;5;28;43mself\u001b[39;49m\u001b[38;5;241;43m.\u001b[39;49m\u001b[43m_raw\u001b[49m\u001b[43m,\u001b[49m\u001b[43m \u001b[49m\u001b[43mraw_as_string\u001b[49m\u001b[38;5;241;43m=\u001b[39;49m\u001b[38;5;28;43mself\u001b[39;49m\u001b[38;5;241;43m.\u001b[39;49m\u001b[43m_raw_as_string\u001b[49m\n\u001b[0;32m    571\u001b[0m \u001b[43m\u001b[49m\u001b[43m)\u001b[49m\n\u001b[0;32m    573\u001b[0m results \u001b[38;5;241m=\u001b[39m []\n\u001b[0;32m    574\u001b[0m \u001b[38;5;28;01mwhile\u001b[39;00m \u001b[38;5;28mself\u001b[39m\u001b[38;5;241m.\u001b[39m_connection\u001b[38;5;241m.\u001b[39mresult_set_available:\n",
      "File \u001b[1;32m~\\AppData\\Local\\Programs\\Python\\Python312\\Lib\\site-packages\\mysql\\connector\\opentelemetry\\context_propagation.py:97\u001b[0m, in \u001b[0;36mwith_context_propagation.<locals>.wrapper\u001b[1;34m(cnx, *args, **kwargs)\u001b[0m\n\u001b[0;32m     95\u001b[0m \u001b[38;5;66;03m# pylint: disable=possibly-used-before-assignment\u001b[39;00m\n\u001b[0;32m     96\u001b[0m \u001b[38;5;28;01mif\u001b[39;00m \u001b[38;5;129;01mnot\u001b[39;00m OTEL_ENABLED \u001b[38;5;129;01mor\u001b[39;00m \u001b[38;5;129;01mnot\u001b[39;00m cnx\u001b[38;5;241m.\u001b[39motel_context_propagation:\n\u001b[1;32m---> 97\u001b[0m     \u001b[38;5;28;01mreturn\u001b[39;00m \u001b[43mmethod\u001b[49m\u001b[43m(\u001b[49m\u001b[43mcnx\u001b[49m\u001b[43m,\u001b[49m\u001b[43m \u001b[49m\u001b[38;5;241;43m*\u001b[39;49m\u001b[43margs\u001b[49m\u001b[43m,\u001b[49m\u001b[43m \u001b[49m\u001b[38;5;241;43m*\u001b[39;49m\u001b[38;5;241;43m*\u001b[39;49m\u001b[43mkwargs\u001b[49m\u001b[43m)\u001b[49m\n\u001b[0;32m     99\u001b[0m current_span \u001b[38;5;241m=\u001b[39m trace\u001b[38;5;241m.\u001b[39mget_current_span()\n\u001b[0;32m    100\u001b[0m tp_header \u001b[38;5;241m=\u001b[39m \u001b[38;5;28;01mNone\u001b[39;00m\n",
      "File \u001b[1;32m~\\AppData\\Local\\Programs\\Python\\Python312\\Lib\\site-packages\\mysql\\connector\\connection_cext.py:713\u001b[0m, in \u001b[0;36mCMySQLConnection.cmd_query\u001b[1;34m(self, query, raw, buffered, raw_as_string)\u001b[0m\n\u001b[0;32m    705\u001b[0m     \u001b[38;5;28mself\u001b[39m\u001b[38;5;241m.\u001b[39m_cmysql\u001b[38;5;241m.\u001b[39mquery(\n\u001b[0;32m    706\u001b[0m         query,\n\u001b[0;32m    707\u001b[0m         raw\u001b[38;5;241m=\u001b[39mraw,\n\u001b[1;32m   (...)\u001b[0m\n\u001b[0;32m    710\u001b[0m         query_attrs\u001b[38;5;241m=\u001b[39m\u001b[38;5;28mself\u001b[39m\u001b[38;5;241m.\u001b[39mquery_attrs,\n\u001b[0;32m    711\u001b[0m     )\n\u001b[0;32m    712\u001b[0m \u001b[38;5;28;01mexcept\u001b[39;00m MySQLInterfaceError \u001b[38;5;28;01mas\u001b[39;00m err:\n\u001b[1;32m--> 713\u001b[0m     \u001b[38;5;28;01mraise\u001b[39;00m get_mysql_exception(\n\u001b[0;32m    714\u001b[0m         err\u001b[38;5;241m.\u001b[39merrno, msg\u001b[38;5;241m=\u001b[39merr\u001b[38;5;241m.\u001b[39mmsg, sqlstate\u001b[38;5;241m=\u001b[39merr\u001b[38;5;241m.\u001b[39msqlstate\n\u001b[0;32m    715\u001b[0m     ) \u001b[38;5;28;01mfrom\u001b[39;00m \u001b[38;5;21;01merr\u001b[39;00m\n\u001b[0;32m    716\u001b[0m \u001b[38;5;28;01mexcept\u001b[39;00m \u001b[38;5;167;01mAttributeError\u001b[39;00m \u001b[38;5;28;01mas\u001b[39;00m err:\n\u001b[0;32m    717\u001b[0m     addr \u001b[38;5;241m=\u001b[39m (\n\u001b[0;32m    718\u001b[0m         \u001b[38;5;28mself\u001b[39m\u001b[38;5;241m.\u001b[39m_unix_socket \u001b[38;5;28;01mif\u001b[39;00m \u001b[38;5;28mself\u001b[39m\u001b[38;5;241m.\u001b[39m_unix_socket \u001b[38;5;28;01melse\u001b[39;00m \u001b[38;5;124mf\u001b[39m\u001b[38;5;124m\"\u001b[39m\u001b[38;5;132;01m{\u001b[39;00m\u001b[38;5;28mself\u001b[39m\u001b[38;5;241m.\u001b[39m_host\u001b[38;5;132;01m}\u001b[39;00m\u001b[38;5;124m:\u001b[39m\u001b[38;5;132;01m{\u001b[39;00m\u001b[38;5;28mself\u001b[39m\u001b[38;5;241m.\u001b[39m_port\u001b[38;5;132;01m}\u001b[39;00m\u001b[38;5;124m\"\u001b[39m\n\u001b[0;32m    719\u001b[0m     )\n",
      "\u001b[1;31mProgrammingError\u001b[0m: 1305 (42000): PROCEDURE little_lemon_db.BusyHours does not exist"
     ]
    }
   ],
   "source": [
    "connection = pool.get_connection()\n",
    "cursor=connection.cursor()\n",
    "\n",
    "cursor.execute(\"DROP PROCEDURE IF EXISTS PeakHours;\")\n",
    "stored_procedure_query=\"\"\"\n",
    "CREATE PROCEDURE PeakHours()\n",
    "\n",
    "BEGIN\n",
    "\n",
    "SELECT \n",
    "HOUR(BookingSlot) AS Booking_Hour,\n",
    "COUNT(HOUR(BookingSlot)) AS n_Bookings\n",
    "FROM Bookings\n",
    "GROUP BY Booking_Hour\n",
    "ORDER BY n_Bookings DESC;\n",
    "\n",
    "END\n",
    "\n",
    "\"\"\"\n",
    "\n",
    "# Execute the query \n",
    "cursor.execute(stored_procedure_query)\n",
    "# Call the stored procedure with its name\n",
    "cursor.callproc(\"BusyHours\")\n",
    "\n",
    "# Retrieve records in \"dataset\"\n",
    "results = next(cursor.stored_results() )\n",
    "dataset = results.fetchall()\n",
    "\n",
    "# Retrieve column names using list comprehension in a for loop \n",
    "for column_id in cursor.stored_results():\n",
    "    columns = [column[0] for column in column_id.description]\n",
    "\n",
    "# Print column names:\n",
    "print(columns)\n",
    "\n",
    "# Print data \n",
    "for data in dataset:\n",
    "    print(data)"
   ]
  },
  {
   "cell_type": "code",
   "execution_count": 15,
   "id": "94c7fc76-02aa-4999-9852-968a00dd90ff",
   "metadata": {},
   "outputs": [
    {
     "name": "stdout",
     "output_type": "stream",
     "text": [
      "['OrderNumber', 'GuestName', 'Employee', 'Status']\n",
      "(1, 'Anna Iversen', 'Manager', 'Ready to Pay')\n",
      "(2, 'Joakim Iversen', 'Manager', 'Ready to Pay')\n",
      "(3, 'Vanessa McCarthy', 'Head Chef', 'Ready to serve')\n",
      "(4, 'Marcos Romero', 'Assistant Chef', 'Preparing order')\n",
      "(5, 'Hiroki Yamane', 'Assistant Manager', 'Ready to Pay')\n",
      "(6, 'Diana Pinto', 'Head Waiter', 'Order served')\n"
     ]
    }
   ],
   "source": [
    "stored_procedure_query=\"\"\"\n",
    "CREATE PROCEDURE GuestStatus()\n",
    "\n",
    "BEGIN\n",
    "\n",
    "SELECT \n",
    "\n",
    "Bookings.BookingID AS OrderNumber,  \n",
    "CONCAT(GuestFirstName,' ',GuestLastName) AS GuestName, \n",
    "\n",
    "Role AS Employee, \n",
    "\n",
    "CASE \n",
    "WHEN Role IN ('Manager','Assistant Manager') THEN \"Ready to Pay\"\n",
    "WHEN Role = 'Head Chef' THEN \"Ready to serve\"\n",
    "WHEN Role = 'Assistant Chef' THEN \"Preparing order\"\n",
    "WHEN Role = 'Head Waiter' THEN \"Order served\"\n",
    "\n",
    "ELSE \"Pending\"\n",
    "END AS Status\n",
    "\n",
    "FROM Bookings \n",
    "LEFT JOIN \n",
    "Employees \n",
    "ON Employees.EmployeeID=Bookings.EmployeeID;\n",
    "\n",
    "END\n",
    "\"\"\"\n",
    "\n",
    "\n",
    "# Execute the query\n",
    "cursor.execute(stored_procedure_query)\n",
    "\n",
    "#********************************************#\n",
    "\n",
    "# Call the stored procedure with its name\n",
    "cursor.callproc(\"GuestStatus\")\n",
    "\n",
    "# Retrieve records in \"dataset\"\n",
    "results = next(cursor.stored_results())\n",
    "dataset = results.fetchall()\n",
    "\n",
    "# Retrieve column names using list comprehension in a for loop \n",
    "for column_id in cursor.stored_results():\n",
    "    columns = [column[0] for column in column_id.description]\n",
    "\n",
    "# Print column names\n",
    "print(columns)\n",
    "\n",
    "# Print data \n",
    "for data in dataset:\n",
    "    print(data)\n",
    "    \n",
    "connection1.close()"
   ]
  },
  {
   "cell_type": "markdown",
   "id": "8ed8bf6c-8c52-4b5b-a668-34b03ec5398f",
   "metadata": {},
   "source": [
    "### Ejercicio 3: Informe de análisis y ventas de Little Lemon"
   ]
  },
  {
   "cell_type": "code",
   "execution_count": 16,
   "id": "074923fc-4ca1-4760-b83b-32d2f803652f",
   "metadata": {},
   "outputs": [
    {
     "name": "stdout",
     "output_type": "stream",
     "text": [
      "Error code: 1045\n",
      "Error message: Access denied for user 'meta'@'localhost' (using password: YES)\n"
     ]
    }
   ],
   "source": [
    "# Import MySQLConnectionPool class\n",
    "from mysql.connector.pooling import MySQLConnectionPool\n",
    "\n",
    "# Import Error class\n",
    "from mysql.connector import Error\n",
    "\n",
    "# Define database configurations\n",
    "dbconfig = {\n",
    "    \"database\":\"little_lemon_db\",\n",
    "    \"user\" : \"meta\",\n",
    "    \"password\" : \"password\"\n",
    "}\n",
    "\n",
    "# Create a pool named \"pool_b\" with two connections.\n",
    "# try-except block\n",
    "try:\n",
    "    pool = MySQLConnectionPool(pool_name = \"pool_b\",pool_size = 2,**dbconfig)\n",
    "    print(\"The connection pool is created with the name: \",pool.pool_name)\n",
    "    print(\"The pool size is:\",pool.pool_size)\n",
    "\n",
    "except Error as er:\n",
    "    print(\"Error code:\", er.errno)\n",
    "    print(\"Error message:\", er.msg)"
   ]
  },
  {
   "cell_type": "code",
   "execution_count": 17,
   "id": "cdeb9354-d5d3-4c70-9495-08d2f8ffbc43",
   "metadata": {},
   "outputs": [
    {
     "name": "stdout",
     "output_type": "stream",
     "text": [
      "A new booking is added in the \"Bookings\" table.\n"
     ]
    },
    {
     "ename": "PoolError",
     "evalue": "Failed getting connection; pool exhausted",
     "output_type": "error",
     "traceback": [
      "\u001b[1;31m---------------------------------------------------------------------------\u001b[0m",
      "\u001b[1;31mEmpty\u001b[0m                                     Traceback (most recent call last)",
      "File \u001b[1;32m~\\AppData\\Local\\Programs\\Python\\Python312\\Lib\\site-packages\\mysql\\connector\\pooling.py:654\u001b[0m, in \u001b[0;36mMySQLConnectionPool.get_connection\u001b[1;34m(self)\u001b[0m\n\u001b[0;32m    653\u001b[0m \u001b[38;5;28;01mtry\u001b[39;00m:\n\u001b[1;32m--> 654\u001b[0m     cnx \u001b[38;5;241m=\u001b[39m \u001b[38;5;28;43mself\u001b[39;49m\u001b[38;5;241;43m.\u001b[39;49m\u001b[43m_cnx_queue\u001b[49m\u001b[38;5;241;43m.\u001b[39;49m\u001b[43mget\u001b[49m\u001b[43m(\u001b[49m\u001b[43mblock\u001b[49m\u001b[38;5;241;43m=\u001b[39;49m\u001b[38;5;28;43;01mFalse\u001b[39;49;00m\u001b[43m)\u001b[49m\n\u001b[0;32m    655\u001b[0m \u001b[38;5;28;01mexcept\u001b[39;00m queue\u001b[38;5;241m.\u001b[39mEmpty \u001b[38;5;28;01mas\u001b[39;00m err:\n",
      "File \u001b[1;32m~\\AppData\\Local\\Programs\\Python\\Python312\\Lib\\queue.py:168\u001b[0m, in \u001b[0;36mQueue.get\u001b[1;34m(self, block, timeout)\u001b[0m\n\u001b[0;32m    167\u001b[0m     \u001b[38;5;28;01mif\u001b[39;00m \u001b[38;5;129;01mnot\u001b[39;00m \u001b[38;5;28mself\u001b[39m\u001b[38;5;241m.\u001b[39m_qsize():\n\u001b[1;32m--> 168\u001b[0m         \u001b[38;5;28;01mraise\u001b[39;00m Empty\n\u001b[0;32m    169\u001b[0m \u001b[38;5;28;01melif\u001b[39;00m timeout \u001b[38;5;129;01mis\u001b[39;00m \u001b[38;5;28;01mNone\u001b[39;00m:\n",
      "\u001b[1;31mEmpty\u001b[0m: ",
      "\nThe above exception was the direct cause of the following exception:\n",
      "\u001b[1;31mPoolError\u001b[0m                                 Traceback (most recent call last)",
      "Cell \u001b[1;32mIn[17], line 13\u001b[0m\n\u001b[0;32m     10\u001b[0m \u001b[38;5;28mprint\u001b[39m(\u001b[38;5;124m\"\"\"\u001b[39m\u001b[38;5;124mA new booking is added in the \u001b[39m\u001b[38;5;124m\"\u001b[39m\u001b[38;5;124mBookings\u001b[39m\u001b[38;5;124m\"\u001b[39m\u001b[38;5;124m table.\u001b[39m\u001b[38;5;124m\"\"\"\u001b[39m)\n\u001b[0;32m     12\u001b[0m \u001b[38;5;66;03m# Connect the second guest .\u001b[39;00m\n\u001b[1;32m---> 13\u001b[0m connection2 \u001b[38;5;241m=\u001b[39m \u001b[43mpool\u001b[49m\u001b[38;5;241;43m.\u001b[39;49m\u001b[43mget_connection\u001b[49m\u001b[43m(\u001b[49m\u001b[43m)\u001b[49m\n\u001b[0;32m     14\u001b[0m cursor2\u001b[38;5;241m=\u001b[39mconnection2\u001b[38;5;241m.\u001b[39mcursor()\n\u001b[0;32m     15\u001b[0m booking2\u001b[38;5;241m=\u001b[39m\u001b[38;5;124m\"\"\"\u001b[39m\u001b[38;5;124mINSERT INTO Bookings \u001b[39m\n\u001b[0;32m     16\u001b[0m \u001b[38;5;124m(TableNo, GuestFirstName, GuestLastName, BookingSlot, EmployeeID)\u001b[39m\n\u001b[0;32m     17\u001b[0m \u001b[38;5;124mVALUES\u001b[39m\n\u001b[0;32m     18\u001b[0m \u001b[38;5;124m(5, \u001b[39m\u001b[38;5;124m'\u001b[39m\u001b[38;5;124mBald\u001b[39m\u001b[38;5;124m'\u001b[39m\u001b[38;5;124m,\u001b[39m\u001b[38;5;124m'\u001b[39m\u001b[38;5;124mVin\u001b[39m\u001b[38;5;124m'\u001b[39m\u001b[38;5;124m,\u001b[39m\u001b[38;5;124m'\u001b[39m\u001b[38;5;124m19:00:00\u001b[39m\u001b[38;5;124m'\u001b[39m\u001b[38;5;124m,6);\u001b[39m\u001b[38;5;124m\"\"\"\u001b[39m\n",
      "File \u001b[1;32m~\\AppData\\Local\\Programs\\Python\\Python312\\Lib\\site-packages\\mysql\\connector\\pooling.py:656\u001b[0m, in \u001b[0;36mMySQLConnectionPool.get_connection\u001b[1;34m(self)\u001b[0m\n\u001b[0;32m    654\u001b[0m     cnx \u001b[38;5;241m=\u001b[39m \u001b[38;5;28mself\u001b[39m\u001b[38;5;241m.\u001b[39m_cnx_queue\u001b[38;5;241m.\u001b[39mget(block\u001b[38;5;241m=\u001b[39m\u001b[38;5;28;01mFalse\u001b[39;00m)\n\u001b[0;32m    655\u001b[0m \u001b[38;5;28;01mexcept\u001b[39;00m queue\u001b[38;5;241m.\u001b[39mEmpty \u001b[38;5;28;01mas\u001b[39;00m err:\n\u001b[1;32m--> 656\u001b[0m     \u001b[38;5;28;01mraise\u001b[39;00m PoolError(\u001b[38;5;124m\"\u001b[39m\u001b[38;5;124mFailed getting connection; pool exhausted\u001b[39m\u001b[38;5;124m\"\u001b[39m) \u001b[38;5;28;01mfrom\u001b[39;00m \u001b[38;5;21;01merr\u001b[39;00m\n\u001b[0;32m    658\u001b[0m \u001b[38;5;28;01mif\u001b[39;00m (\n\u001b[0;32m    659\u001b[0m     \u001b[38;5;129;01mnot\u001b[39;00m cnx\u001b[38;5;241m.\u001b[39mis_connected()\n\u001b[0;32m    660\u001b[0m     \u001b[38;5;129;01mor\u001b[39;00m \u001b[38;5;28mself\u001b[39m\u001b[38;5;241m.\u001b[39m_config_version \u001b[38;5;241m!=\u001b[39m cnx\u001b[38;5;241m.\u001b[39mpool_config_version\n\u001b[0;32m    661\u001b[0m ):\n\u001b[0;32m    662\u001b[0m     cnx\u001b[38;5;241m.\u001b[39mconfig(\u001b[38;5;241m*\u001b[39m\u001b[38;5;241m*\u001b[39m\u001b[38;5;28mself\u001b[39m\u001b[38;5;241m.\u001b[39m_cnx_config)\n",
      "\u001b[1;31mPoolError\u001b[0m: Failed getting connection; pool exhausted"
     ]
    }
   ],
   "source": [
    "# Connect the first guest.\n",
    "connection1 = pool.get_connection()\n",
    "cursor1=connection1.cursor()\n",
    "booking1=\"\"\"INSERT INTO Bookings \n",
    "(TableNo, GuestFirstName, GuestLastName, BookingSlot, EmployeeID)\n",
    "VALUES\n",
    "(8,'Anees','Java','18:00:00',6);\"\"\"\n",
    "cursor1.execute(booking1)\n",
    "connection1.commit()\n",
    "print(\"\"\"A new booking is added in the \"Bookings\" table.\"\"\")\n",
    "\n",
    "# Connect the second guest .\n",
    "connection2 = pool.get_connection()\n",
    "cursor2=connection2.cursor()\n",
    "booking2=\"\"\"INSERT INTO Bookings \n",
    "(TableNo, GuestFirstName, GuestLastName, BookingSlot, EmployeeID)\n",
    "VALUES\n",
    "(5, 'Bald','Vin','19:00:00',6);\"\"\"\n",
    "cursor2.execute(booking2)\n",
    "connection2.commit()\n",
    "print(\"\"\"A new booking is added in the \"Bookings\" table.\"\"\")\n",
    "\n",
    "# Adding a new connection to connect the third user.\n",
    "import mysql.connector as connector\n",
    "try:\n",
    "    connection3 = pool.get_connection()\n",
    "    print(\"The guest is connected\")\n",
    "except:\n",
    "    print(\"Adding new connection in the pool.\")\n",
    "        \n",
    "    # Create a connection\n",
    "    connection=connector.connect(user=\"meta\",password=\"password\")\n",
    "    # Add the connection into the pool\n",
    "    pool.add_connection(cnx=connection)\n",
    "    print(\"A new connection is added in the pool.\\n\")\n",
    "        \n",
    "    connection3 = pool.get_connection()\n",
    "    print(\"'connection3' is added in the pool.\")\n",
    "\n",
    "# Connect the third guest \n",
    "cursor3=connection3.cursor()\n",
    "booking3=\"\"\"INSERT INTO Bookings \n",
    "(TableNo, GuestFirstName, GuestLastName, BookingSlot, EmployeeID)\n",
    "VALUES\n",
    "(12, 'Jay','Kon','19:30:00',6);\"\"\"\n",
    "cursor3.execute(booking3)\n",
    "connection3.commit()\n",
    "print(\"\"\"A new booking is added in the \"Bookings\" table.\"\"\")\n",
    "\n",
    "# You can only return two connections back to the pool as the pool_size=2.\n",
    "#  Close all  connections and use try-except to print the pool error if the pool is already full.\n",
    "\n",
    "from mysql.connector import Error\n",
    "for connection in [connection1,connection2, connection3]:\n",
    "    try:\n",
    "        connection.close()\n",
    "        print(\"Connection is returned to the pool\")\n",
    "    except Error as er:\n",
    "        print(\"\\nConnection can't be returned to the pool\")\n",
    "        print(\"Error message:\", er.msg)"
   ]
  },
  {
   "cell_type": "code",
   "execution_count": 18,
   "id": "a096471b-fda6-4d5e-b0e2-f9b232964cd2",
   "metadata": {},
   "outputs": [
    {
     "name": "stdout",
     "output_type": "stream",
     "text": [
      "Getting a connection from the pool.\n"
     ]
    },
    {
     "ename": "PoolError",
     "evalue": "Failed getting connection; pool exhausted",
     "output_type": "error",
     "traceback": [
      "\u001b[1;31m---------------------------------------------------------------------------\u001b[0m",
      "\u001b[1;31mEmpty\u001b[0m                                     Traceback (most recent call last)",
      "File \u001b[1;32m~\\AppData\\Local\\Programs\\Python\\Python312\\Lib\\site-packages\\mysql\\connector\\pooling.py:654\u001b[0m, in \u001b[0;36mMySQLConnectionPool.get_connection\u001b[1;34m(self)\u001b[0m\n\u001b[0;32m    653\u001b[0m \u001b[38;5;28;01mtry\u001b[39;00m:\n\u001b[1;32m--> 654\u001b[0m     cnx \u001b[38;5;241m=\u001b[39m \u001b[38;5;28;43mself\u001b[39;49m\u001b[38;5;241;43m.\u001b[39;49m\u001b[43m_cnx_queue\u001b[49m\u001b[38;5;241;43m.\u001b[39;49m\u001b[43mget\u001b[49m\u001b[43m(\u001b[49m\u001b[43mblock\u001b[49m\u001b[38;5;241;43m=\u001b[39;49m\u001b[38;5;28;43;01mFalse\u001b[39;49;00m\u001b[43m)\u001b[49m\n\u001b[0;32m    655\u001b[0m \u001b[38;5;28;01mexcept\u001b[39;00m queue\u001b[38;5;241m.\u001b[39mEmpty \u001b[38;5;28;01mas\u001b[39;00m err:\n",
      "File \u001b[1;32m~\\AppData\\Local\\Programs\\Python\\Python312\\Lib\\queue.py:168\u001b[0m, in \u001b[0;36mQueue.get\u001b[1;34m(self, block, timeout)\u001b[0m\n\u001b[0;32m    167\u001b[0m     \u001b[38;5;28;01mif\u001b[39;00m \u001b[38;5;129;01mnot\u001b[39;00m \u001b[38;5;28mself\u001b[39m\u001b[38;5;241m.\u001b[39m_qsize():\n\u001b[1;32m--> 168\u001b[0m         \u001b[38;5;28;01mraise\u001b[39;00m Empty\n\u001b[0;32m    169\u001b[0m \u001b[38;5;28;01melif\u001b[39;00m timeout \u001b[38;5;129;01mis\u001b[39;00m \u001b[38;5;28;01mNone\u001b[39;00m:\n",
      "\u001b[1;31mEmpty\u001b[0m: ",
      "\nThe above exception was the direct cause of the following exception:\n",
      "\u001b[1;31mPoolError\u001b[0m                                 Traceback (most recent call last)",
      "Cell \u001b[1;32mIn[18], line 3\u001b[0m\n\u001b[0;32m      1\u001b[0m \u001b[38;5;66;03m# Get a connection from pool_a and create a cursor object to communicate with the database. \u001b[39;00m\n\u001b[0;32m      2\u001b[0m \u001b[38;5;28mprint\u001b[39m(\u001b[38;5;124m\"\u001b[39m\u001b[38;5;124mGetting a connection from the pool.\u001b[39m\u001b[38;5;124m\"\u001b[39m)\n\u001b[1;32m----> 3\u001b[0m connection \u001b[38;5;241m=\u001b[39m \u001b[43mpool\u001b[49m\u001b[38;5;241;43m.\u001b[39;49m\u001b[43mget_connection\u001b[49m\u001b[43m(\u001b[49m\u001b[43m)\u001b[49m\n\u001b[0;32m      4\u001b[0m \u001b[38;5;28mprint\u001b[39m(\u001b[38;5;124m\"\"\"\u001b[39m\u001b[38;5;124mThe object \u001b[39m\u001b[38;5;124m\"\u001b[39m\u001b[38;5;124mconnection\u001b[39m\u001b[38;5;124m\"\u001b[39m\u001b[38;5;124m is created with a connection link from the pool_a\u001b[39m\u001b[38;5;124m\"\"\"\u001b[39m)\n\u001b[0;32m      5\u001b[0m \u001b[38;5;28mprint\u001b[39m(\u001b[38;5;124m\"\"\"\u001b[39m\u001b[38;5;124mCreating a cursor object to communicate with the database.\u001b[39m\u001b[38;5;124m\"\"\"\u001b[39m)\n",
      "File \u001b[1;32m~\\AppData\\Local\\Programs\\Python\\Python312\\Lib\\site-packages\\mysql\\connector\\pooling.py:656\u001b[0m, in \u001b[0;36mMySQLConnectionPool.get_connection\u001b[1;34m(self)\u001b[0m\n\u001b[0;32m    654\u001b[0m     cnx \u001b[38;5;241m=\u001b[39m \u001b[38;5;28mself\u001b[39m\u001b[38;5;241m.\u001b[39m_cnx_queue\u001b[38;5;241m.\u001b[39mget(block\u001b[38;5;241m=\u001b[39m\u001b[38;5;28;01mFalse\u001b[39;00m)\n\u001b[0;32m    655\u001b[0m \u001b[38;5;28;01mexcept\u001b[39;00m queue\u001b[38;5;241m.\u001b[39mEmpty \u001b[38;5;28;01mas\u001b[39;00m err:\n\u001b[1;32m--> 656\u001b[0m     \u001b[38;5;28;01mraise\u001b[39;00m PoolError(\u001b[38;5;124m\"\u001b[39m\u001b[38;5;124mFailed getting connection; pool exhausted\u001b[39m\u001b[38;5;124m\"\u001b[39m) \u001b[38;5;28;01mfrom\u001b[39;00m \u001b[38;5;21;01merr\u001b[39;00m\n\u001b[0;32m    658\u001b[0m \u001b[38;5;28;01mif\u001b[39;00m (\n\u001b[0;32m    659\u001b[0m     \u001b[38;5;129;01mnot\u001b[39;00m cnx\u001b[38;5;241m.\u001b[39mis_connected()\n\u001b[0;32m    660\u001b[0m     \u001b[38;5;129;01mor\u001b[39;00m \u001b[38;5;28mself\u001b[39m\u001b[38;5;241m.\u001b[39m_config_version \u001b[38;5;241m!=\u001b[39m cnx\u001b[38;5;241m.\u001b[39mpool_config_version\n\u001b[0;32m    661\u001b[0m ):\n\u001b[0;32m    662\u001b[0m     cnx\u001b[38;5;241m.\u001b[39mconfig(\u001b[38;5;241m*\u001b[39m\u001b[38;5;241m*\u001b[39m\u001b[38;5;28mself\u001b[39m\u001b[38;5;241m.\u001b[39m_cnx_config)\n",
      "\u001b[1;31mPoolError\u001b[0m: Failed getting connection; pool exhausted"
     ]
    }
   ],
   "source": [
    "# Get a connection from pool_a and create a cursor object to communicate with the database. \n",
    "print(\"Getting a connection from the pool.\")\n",
    "connection = pool.get_connection()\n",
    "print(\"\"\"The object \"connection\" is created with a connection link from the pool_a\"\"\")\n",
    "print(\"\"\"Creating a cursor object to communicate with the database.\"\"\")\n",
    "cursor=connection.cursor()\n",
    "print(\"\"\"The cursor object \"cursor\" is created.\"\"\")\n",
    "\n",
    "# The name and EmployeeID of the Little Lemon manager.\n",
    "cursor.execute(\"\"\"SELECT \n",
    "Name, EmployeeID \n",
    "FROM Employees \n",
    "WHERE Role = 'Manager'\"\"\")\n",
    "results=cursor.fetchall()\n",
    "columns=cursor.column_names\n",
    "print(columns)\n",
    "for result in results:\n",
    "    print(result)\n",
    "\n",
    "# The name and role of the employee who receives the highest salary.\n",
    "cursor.execute(\"\"\"SELECT \n",
    "Name, EmployeeID \n",
    "FROM Employees ORDER BY \n",
    "Annual_Salary DESC LIMIT 1\"\"\")\n",
    "results=cursor.fetchall()\n",
    "columns=cursor.column_names\n",
    "print(columns)\n",
    "for result in results:\n",
    "    print(result)\n",
    "\n",
    "# The number of guests booked between 18:00:00 and 20:00:00.\n",
    "cursor.execute(\"\"\"SELECT \n",
    "COUNT(BookingID) n_booking_between_18_20_hrs\n",
    "FROM Bookings \n",
    "WHERE BookingSlot BETWEEN '18:00:00' AND '20:00:00';\"\"\")\n",
    "results=cursor.fetchall()\n",
    "columns=cursor.column_names\n",
    "print(columns)\n",
    "for result in results:\n",
    "    print(result)\n",
    "\n",
    "# Full name and the BookingId of each guest  waiting to be seated  \n",
    "# with the receptionist in sorted order with respect to their BookingSlot.\n",
    "\n",
    "cursor.execute(\"\"\"\n",
    "SELECT \n",
    "\n",
    "Bookings.BookingID AS ID,  \n",
    "CONCAT(GuestFirstName,' ',GuestLastName) AS GuestName, \n",
    "\n",
    "Role AS Employee\n",
    "\n",
    "FROM Bookings \n",
    "LEFT JOIN \n",
    "Employees \n",
    "ON Employees.EmployeeID=Bookings.EmployeeID\n",
    "WHERE Employees.Role = \"Receptionist\"\n",
    "ORDER BY BookingSlot DESC;\n",
    "\n",
    "\"\"\")\n",
    "print(\"The following guests are waiting to be seated:\")\n",
    "results=cursor.fetchall()\n",
    "columns=cursor.column_names\n",
    "print(columns)\n",
    "for result in results:\n",
    "    print(result)"
   ]
  },
  {
   "cell_type": "code",
   "execution_count": 19,
   "id": "f8a520d9-7816-402d-a625-9745e377a448",
   "metadata": {},
   "outputs": [
    {
     "ename": "SyntaxError",
     "evalue": "invalid syntax (795945015.py, line 36)",
     "output_type": "error",
     "traceback": [
      "\u001b[1;36m  Cell \u001b[1;32mIn[19], line 36\u001b[1;36m\u001b[0m\n\u001b[1;33m    print(\"\\t\",cols[0],\"\":\"\",result[0])\u001b[0m\n\u001b[1;37m                         ^\u001b[0m\n\u001b[1;31mSyntaxError\u001b[0m\u001b[1;31m:\u001b[0m invalid syntax\n"
     ]
    }
   ],
   "source": [
    "# Create a stored procedure named BasicSalesReport. \n",
    "cursor.execute(\"DROP PROCEDURE IF EXISTS BasicSalesReport;\")\n",
    "\n",
    "stored_procedure_query=\"\"\"\n",
    "CREATE PROCEDURE BasicSalesReport()\n",
    "\n",
    "BEGIN\n",
    "SELECT \n",
    "SUM(BillAmount) AS Total_Sale,\n",
    "AVG(BillAmount) AS Average_Sale,\n",
    "MIN(BillAmount) AS Min_Bill_Paid,\n",
    "MAX(BillAmount) AS Max_Bill_Paid\n",
    "FROM Orders;\n",
    "END\n",
    "\"\"\"\n",
    "\n",
    "# Execute the query\n",
    "cursor.execute(stored_procedure_query)\n",
    "\n",
    "#********************************************#\n",
    "\n",
    "# Call the stored procedure with its name\n",
    "cursor.callproc(\"BasicSalesReport\")\n",
    "\n",
    "# Retrieve records in \"dataset\"\n",
    "results = next(cursor.stored_results())\n",
    "results = results.fetchall()\n",
    "\n",
    "# Retrieve column names using list comprehension in a for loop \n",
    "for column_id in cursor.stored_results():\n",
    "    cols = [column[0] for column in column_id.description]\n",
    "\n",
    "    \n",
    "print(\"Today's sales report:\")\n",
    "for result in results:\n",
    "    print(\"\\t\",cols[0],\"\":\"\",result[0])\n",
    "    print(\"\\t\",cols[1],\"\":\"\",result[1])\n",
    "    print(\"\\t\",cols[2],\"\":\"\",result[2])\n",
    "    print(\"\\t\",cols[3],\"\":\"\",result[3])\n"
   ]
  },
  {
   "cell_type": "code",
   "execution_count": 20,
   "id": "23f7c7f5-7650-4af8-b504-3d0997a7be5f",
   "metadata": {},
   "outputs": [
    {
     "ename": "PoolError",
     "evalue": "Failed getting connection; pool exhausted",
     "output_type": "error",
     "traceback": [
      "\u001b[1;31m---------------------------------------------------------------------------\u001b[0m",
      "\u001b[1;31mEmpty\u001b[0m                                     Traceback (most recent call last)",
      "File \u001b[1;32m~\\AppData\\Local\\Programs\\Python\\Python312\\Lib\\site-packages\\mysql\\connector\\pooling.py:654\u001b[0m, in \u001b[0;36mMySQLConnectionPool.get_connection\u001b[1;34m(self)\u001b[0m\n\u001b[0;32m    653\u001b[0m \u001b[38;5;28;01mtry\u001b[39;00m:\n\u001b[1;32m--> 654\u001b[0m     cnx \u001b[38;5;241m=\u001b[39m \u001b[38;5;28;43mself\u001b[39;49m\u001b[38;5;241;43m.\u001b[39;49m\u001b[43m_cnx_queue\u001b[49m\u001b[38;5;241;43m.\u001b[39;49m\u001b[43mget\u001b[49m\u001b[43m(\u001b[49m\u001b[43mblock\u001b[49m\u001b[38;5;241;43m=\u001b[39;49m\u001b[38;5;28;43;01mFalse\u001b[39;49;00m\u001b[43m)\u001b[49m\n\u001b[0;32m    655\u001b[0m \u001b[38;5;28;01mexcept\u001b[39;00m queue\u001b[38;5;241m.\u001b[39mEmpty \u001b[38;5;28;01mas\u001b[39;00m err:\n",
      "File \u001b[1;32m~\\AppData\\Local\\Programs\\Python\\Python312\\Lib\\queue.py:168\u001b[0m, in \u001b[0;36mQueue.get\u001b[1;34m(self, block, timeout)\u001b[0m\n\u001b[0;32m    167\u001b[0m     \u001b[38;5;28;01mif\u001b[39;00m \u001b[38;5;129;01mnot\u001b[39;00m \u001b[38;5;28mself\u001b[39m\u001b[38;5;241m.\u001b[39m_qsize():\n\u001b[1;32m--> 168\u001b[0m         \u001b[38;5;28;01mraise\u001b[39;00m Empty\n\u001b[0;32m    169\u001b[0m \u001b[38;5;28;01melif\u001b[39;00m timeout \u001b[38;5;129;01mis\u001b[39;00m \u001b[38;5;28;01mNone\u001b[39;00m:\n",
      "\u001b[1;31mEmpty\u001b[0m: ",
      "\nThe above exception was the direct cause of the following exception:\n",
      "\u001b[1;31mPoolError\u001b[0m                                 Traceback (most recent call last)",
      "Cell \u001b[1;32mIn[20], line 1\u001b[0m\n\u001b[1;32m----> 1\u001b[0m connection \u001b[38;5;241m=\u001b[39m \u001b[43mpool\u001b[49m\u001b[38;5;241;43m.\u001b[39;49m\u001b[43mget_connection\u001b[49m\u001b[43m(\u001b[49m\u001b[43m)\u001b[49m\n\u001b[0;32m      2\u001b[0m cursor\u001b[38;5;241m=\u001b[39mconnection\u001b[38;5;241m.\u001b[39mcursor(buffered\u001b[38;5;241m=\u001b[39m\u001b[38;5;28;01mTrue\u001b[39;00m)\n\u001b[0;32m      4\u001b[0m sql_query\u001b[38;5;241m=\u001b[39m\u001b[38;5;124m\"\"\"\u001b[39m\u001b[38;5;124mSELECT \u001b[39m\n\u001b[0;32m      5\u001b[0m \u001b[38;5;124mBookings.BookingSlot,\u001b[39m\n\u001b[0;32m      6\u001b[0m \u001b[38;5;124mCONCAT(Bookings.GuestFirstName,\u001b[39m\u001b[38;5;124m\"\u001b[39m\u001b[38;5;124m \u001b[39m\u001b[38;5;124m\"\u001b[39m\u001b[38;5;124m,Bookings.GuestLastName) AS Guest_Name,\u001b[39m\n\u001b[1;32m   (...)\u001b[0m\n\u001b[0;32m     11\u001b[0m \u001b[38;5;124mEmployees ON Bookings.EmployeeID=Employees.EmployeeID\u001b[39m\n\u001b[0;32m     12\u001b[0m \u001b[38;5;124mORDER BY Bookings.BookingSlot ASC;\u001b[39m\u001b[38;5;124m\"\"\"\u001b[39m\n",
      "File \u001b[1;32m~\\AppData\\Local\\Programs\\Python\\Python312\\Lib\\site-packages\\mysql\\connector\\pooling.py:656\u001b[0m, in \u001b[0;36mMySQLConnectionPool.get_connection\u001b[1;34m(self)\u001b[0m\n\u001b[0;32m    654\u001b[0m     cnx \u001b[38;5;241m=\u001b[39m \u001b[38;5;28mself\u001b[39m\u001b[38;5;241m.\u001b[39m_cnx_queue\u001b[38;5;241m.\u001b[39mget(block\u001b[38;5;241m=\u001b[39m\u001b[38;5;28;01mFalse\u001b[39;00m)\n\u001b[0;32m    655\u001b[0m \u001b[38;5;28;01mexcept\u001b[39;00m queue\u001b[38;5;241m.\u001b[39mEmpty \u001b[38;5;28;01mas\u001b[39;00m err:\n\u001b[1;32m--> 656\u001b[0m     \u001b[38;5;28;01mraise\u001b[39;00m PoolError(\u001b[38;5;124m\"\u001b[39m\u001b[38;5;124mFailed getting connection; pool exhausted\u001b[39m\u001b[38;5;124m\"\u001b[39m) \u001b[38;5;28;01mfrom\u001b[39;00m \u001b[38;5;21;01merr\u001b[39;00m\n\u001b[0;32m    658\u001b[0m \u001b[38;5;28;01mif\u001b[39;00m (\n\u001b[0;32m    659\u001b[0m     \u001b[38;5;129;01mnot\u001b[39;00m cnx\u001b[38;5;241m.\u001b[39mis_connected()\n\u001b[0;32m    660\u001b[0m     \u001b[38;5;129;01mor\u001b[39;00m \u001b[38;5;28mself\u001b[39m\u001b[38;5;241m.\u001b[39m_config_version \u001b[38;5;241m!=\u001b[39m cnx\u001b[38;5;241m.\u001b[39mpool_config_version\n\u001b[0;32m    661\u001b[0m ):\n\u001b[0;32m    662\u001b[0m     cnx\u001b[38;5;241m.\u001b[39mconfig(\u001b[38;5;241m*\u001b[39m\u001b[38;5;241m*\u001b[39m\u001b[38;5;28mself\u001b[39m\u001b[38;5;241m.\u001b[39m_cnx_config)\n",
      "\u001b[1;31mPoolError\u001b[0m: Failed getting connection; pool exhausted"
     ]
    }
   ],
   "source": [
    "connection = pool.get_connection()\n",
    "cursor=connection.cursor(buffered=True)\n",
    "\n",
    "sql_query=\"\"\"SELECT \n",
    "Bookings.BookingSlot,\n",
    "CONCAT(Bookings.GuestFirstName,\" \",Bookings.GuestLastName) AS Guest_Name,\n",
    "Employees.Name AS Emp_Name,\n",
    "Employees.Role AS Emp_Role\n",
    "FROM Bookings \n",
    "INNER JOIN \n",
    "Employees ON Bookings.EmployeeID=Employees.EmployeeID\n",
    "ORDER BY Bookings.BookingSlot ASC;\"\"\"\n",
    "cursor.execute(sql_query)\n",
    "results=cursor.fetchmany(size=3)\n",
    "#print(cursor.column_names)\n",
    "for result in results:\n",
    "    print(\"\\nBookingSlot\",result[0])\n",
    "    print(\"\\tGuest_name:\",result[1])\n",
    "    print(\"\\tAssigned to:\",result[2],\"[{}]\".format(result[3]))\n",
    "    \n",
    "connection.close()"
   ]
  },
  {
   "cell_type": "code",
   "execution_count": null,
   "id": "45fa5ab3-69e8-4868-bccb-a666b446cd33",
   "metadata": {},
   "outputs": [],
   "source": []
  }
 ],
 "metadata": {
  "kernelspec": {
   "display_name": "Python 3 (ipykernel)",
   "language": "python",
   "name": "python3"
  },
  "language_info": {
   "codemirror_mode": {
    "name": "ipython",
    "version": 3
   },
   "file_extension": ".py",
   "mimetype": "text/x-python",
   "name": "python",
   "nbconvert_exporter": "python",
   "pygments_lexer": "ipython3",
   "version": "3.12.4"
  }
 },
 "nbformat": 4,
 "nbformat_minor": 5
}
